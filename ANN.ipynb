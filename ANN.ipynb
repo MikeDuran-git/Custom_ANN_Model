{
  "nbformat": 4,
  "nbformat_minor": 0,
  "metadata": {
    "colab": {
      "name": "ANN.ipynb",
      "provenance": [],
      "collapsed_sections": [
        "OfzceLl6V1ye"
      ],
      "authorship_tag": "ABX9TyMWI3eC3ilY5VidDrOCPcUm",
      "include_colab_link": true
    },
    "kernelspec": {
      "name": "python3",
      "display_name": "Python 3"
    }
  },
  "cells": [
    {
      "cell_type": "markdown",
      "metadata": {
        "id": "view-in-github",
        "colab_type": "text"
      },
      "source": [
        "<a href=\"https://colab.research.google.com/github/MikeDuran-git/Custom_ANN_Model/blob/master/ANN.ipynb\" target=\"_parent\"><img src=\"https://colab.research.google.com/assets/colab-badge.svg\" alt=\"Open In Colab\"/></a>"
      ]
    },
    {
      "cell_type": "markdown",
      "metadata": {
        "id": "V3ZCP1TwyNQf"
      },
      "source": [
        "###Libraries\r\n"
      ]
    },
    {
      "cell_type": "code",
      "metadata": {
        "id": "-3-g6e0oxnGV"
      },
      "source": [
        "import numpy as np\r\n",
        "import pandas as pd\r\n",
        "import matplotlib.pyplot as plt\r\n",
        "import tensorflow\r\n",
        "import keras\r\n",
        "import theano"
      ],
      "execution_count": 21,
      "outputs": []
    },
    {
      "cell_type": "markdown",
      "metadata": {
        "id": "5yRAYCEUySBk"
      },
      "source": [
        "#Uploading the CSV file"
      ]
    },
    {
      "cell_type": "code",
      "metadata": {
        "id": "8FSz6cTOytf7",
        "colab": {
          "resources": {
            "http://localhost:8080/nbextensions/google.colab/files.js": {
              "data": "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",
              "ok": true,
              "headers": [
                [
                  "content-type",
                  "application/javascript"
                ]
              ],
              "status": 200,
              "status_text": ""
            }
          },
          "base_uri": "https://localhost:8080/",
          "height": 73
        },
        "outputId": "2673260c-80b1-49a3-d20e-16cfdf149d10"
      },
      "source": [
        "from google.colab import files\r\n",
        "uploaded= files.upload() # upload the data.csv file"
      ],
      "execution_count": 22,
      "outputs": [
        {
          "output_type": "display_data",
          "data": {
            "text/html": [
              "\n",
              "     <input type=\"file\" id=\"files-a5947c98-3d96-48e0-b1d5-324cca909050\" name=\"files[]\" multiple disabled\n",
              "        style=\"border:none\" />\n",
              "     <output id=\"result-a5947c98-3d96-48e0-b1d5-324cca909050\">\n",
              "      Upload widget is only available when the cell has been executed in the\n",
              "      current browser session. Please rerun this cell to enable.\n",
              "      </output>\n",
              "      <script src=\"/nbextensions/google.colab/files.js\"></script> "
            ],
            "text/plain": [
              "<IPython.core.display.HTML object>"
            ]
          },
          "metadata": {
            "tags": []
          }
        },
        {
          "output_type": "stream",
          "text": [
            "Saving data.csv to data.csv\n"
          ],
          "name": "stdout"
        }
      ]
    },
    {
      "cell_type": "code",
      "metadata": {
        "id": "DI8dS2IQzPPG"
      },
      "source": [
        "data=pd.read_csv(\"data.csv\")"
      ],
      "execution_count": 23,
      "outputs": []
    },
    {
      "cell_type": "code",
      "metadata": {
        "colab": {
          "base_uri": "https://localhost:8080/",
          "height": 215
        },
        "id": "CjYFNFCqzYdI",
        "outputId": "c04b6241-235d-44d5-caa7-a8ec3ee8015a"
      },
      "source": [
        "data.head()"
      ],
      "execution_count": 24,
      "outputs": [
        {
          "output_type": "execute_result",
          "data": {
            "text/html": [
              "<div>\n",
              "<style scoped>\n",
              "    .dataframe tbody tr th:only-of-type {\n",
              "        vertical-align: middle;\n",
              "    }\n",
              "\n",
              "    .dataframe tbody tr th {\n",
              "        vertical-align: top;\n",
              "    }\n",
              "\n",
              "    .dataframe thead th {\n",
              "        text-align: right;\n",
              "    }\n",
              "</style>\n",
              "<table border=\"1\" class=\"dataframe\">\n",
              "  <thead>\n",
              "    <tr style=\"text-align: right;\">\n",
              "      <th></th>\n",
              "      <th>RowNumber</th>\n",
              "      <th>CustomerId</th>\n",
              "      <th>Surname</th>\n",
              "      <th>CreditScore</th>\n",
              "      <th>Geography</th>\n",
              "      <th>Gender</th>\n",
              "      <th>Age</th>\n",
              "      <th>Tenure</th>\n",
              "      <th>Balance</th>\n",
              "      <th>NumOfProducts</th>\n",
              "      <th>HasCrCard</th>\n",
              "      <th>IsActiveMember</th>\n",
              "      <th>EstimatedSalary</th>\n",
              "      <th>Exited</th>\n",
              "    </tr>\n",
              "  </thead>\n",
              "  <tbody>\n",
              "    <tr>\n",
              "      <th>0</th>\n",
              "      <td>1</td>\n",
              "      <td>15634602</td>\n",
              "      <td>Hargrave</td>\n",
              "      <td>619</td>\n",
              "      <td>France</td>\n",
              "      <td>Female</td>\n",
              "      <td>42</td>\n",
              "      <td>2</td>\n",
              "      <td>0.00</td>\n",
              "      <td>1</td>\n",
              "      <td>1</td>\n",
              "      <td>1</td>\n",
              "      <td>101348.88</td>\n",
              "      <td>1</td>\n",
              "    </tr>\n",
              "    <tr>\n",
              "      <th>1</th>\n",
              "      <td>2</td>\n",
              "      <td>15647311</td>\n",
              "      <td>Hill</td>\n",
              "      <td>608</td>\n",
              "      <td>Spain</td>\n",
              "      <td>Female</td>\n",
              "      <td>41</td>\n",
              "      <td>1</td>\n",
              "      <td>83807.86</td>\n",
              "      <td>1</td>\n",
              "      <td>0</td>\n",
              "      <td>1</td>\n",
              "      <td>112542.58</td>\n",
              "      <td>0</td>\n",
              "    </tr>\n",
              "    <tr>\n",
              "      <th>2</th>\n",
              "      <td>3</td>\n",
              "      <td>15619304</td>\n",
              "      <td>Onio</td>\n",
              "      <td>502</td>\n",
              "      <td>France</td>\n",
              "      <td>Female</td>\n",
              "      <td>42</td>\n",
              "      <td>8</td>\n",
              "      <td>159660.80</td>\n",
              "      <td>3</td>\n",
              "      <td>1</td>\n",
              "      <td>0</td>\n",
              "      <td>113931.57</td>\n",
              "      <td>1</td>\n",
              "    </tr>\n",
              "    <tr>\n",
              "      <th>3</th>\n",
              "      <td>4</td>\n",
              "      <td>15701354</td>\n",
              "      <td>Boni</td>\n",
              "      <td>699</td>\n",
              "      <td>France</td>\n",
              "      <td>Female</td>\n",
              "      <td>39</td>\n",
              "      <td>1</td>\n",
              "      <td>0.00</td>\n",
              "      <td>2</td>\n",
              "      <td>0</td>\n",
              "      <td>0</td>\n",
              "      <td>93826.63</td>\n",
              "      <td>0</td>\n",
              "    </tr>\n",
              "    <tr>\n",
              "      <th>4</th>\n",
              "      <td>5</td>\n",
              "      <td>15737888</td>\n",
              "      <td>Mitchell</td>\n",
              "      <td>850</td>\n",
              "      <td>Spain</td>\n",
              "      <td>Female</td>\n",
              "      <td>43</td>\n",
              "      <td>2</td>\n",
              "      <td>125510.82</td>\n",
              "      <td>1</td>\n",
              "      <td>1</td>\n",
              "      <td>1</td>\n",
              "      <td>79084.10</td>\n",
              "      <td>0</td>\n",
              "    </tr>\n",
              "  </tbody>\n",
              "</table>\n",
              "</div>"
            ],
            "text/plain": [
              "   RowNumber  CustomerId   Surname  ...  IsActiveMember EstimatedSalary Exited\n",
              "0          1    15634602  Hargrave  ...               1       101348.88      1\n",
              "1          2    15647311      Hill  ...               1       112542.58      0\n",
              "2          3    15619304      Onio  ...               0       113931.57      1\n",
              "3          4    15701354      Boni  ...               0        93826.63      0\n",
              "4          5    15737888  Mitchell  ...               1        79084.10      0\n",
              "\n",
              "[5 rows x 14 columns]"
            ]
          },
          "metadata": {
            "tags": []
          },
          "execution_count": 24
        }
      ]
    },
    {
      "cell_type": "markdown",
      "metadata": {
        "id": "dPm1LAIe22lb"
      },
      "source": [
        "#Data Preparation"
      ]
    },
    {
      "cell_type": "markdown",
      "metadata": {
        "id": "-IFmzSZd9SyF"
      },
      "source": [
        "We remove the first 3 columns sins they do not seem to be useful features."
      ]
    },
    {
      "cell_type": "code",
      "metadata": {
        "colab": {
          "base_uri": "https://localhost:8080/"
        },
        "id": "lEaWP_LP11L2",
        "outputId": "2df68591-6cea-4943-c82e-decfd9bd2a05"
      },
      "source": [
        "x=data.iloc[:,3:13].values\r\n",
        "x\r\n"
      ],
      "execution_count": 25,
      "outputs": [
        {
          "output_type": "execute_result",
          "data": {
            "text/plain": [
              "array([[619, 'France', 'Female', ..., 1, 1, 101348.88],\n",
              "       [608, 'Spain', 'Female', ..., 0, 1, 112542.58],\n",
              "       [502, 'France', 'Female', ..., 1, 0, 113931.57],\n",
              "       ...,\n",
              "       [709, 'France', 'Female', ..., 0, 1, 42085.58],\n",
              "       [772, 'Germany', 'Male', ..., 1, 0, 92888.52],\n",
              "       [792, 'France', 'Female', ..., 1, 0, 38190.78]], dtype=object)"
            ]
          },
          "metadata": {
            "tags": []
          },
          "execution_count": 25
        }
      ]
    },
    {
      "cell_type": "code",
      "metadata": {
        "colab": {
          "base_uri": "https://localhost:8080/"
        },
        "id": "z9UJP1sC11nb",
        "outputId": "1847ef96-eb1a-474e-c802-8ac02fbd8992"
      },
      "source": [
        "y=data.iloc[:,13].values\r\n",
        "y"
      ],
      "execution_count": 26,
      "outputs": [
        {
          "output_type": "execute_result",
          "data": {
            "text/plain": [
              "array([1, 0, 1, ..., 1, 1, 0])"
            ]
          },
          "metadata": {
            "tags": []
          },
          "execution_count": 26
        }
      ]
    },
    {
      "cell_type": "markdown",
      "metadata": {
        "id": "3W_R6bPf7ccG"
      },
      "source": [
        "##Cathegorical Data handling"
      ]
    },
    {
      "cell_type": "markdown",
      "metadata": {
        "id": "IwEBqtP-_-UE"
      },
      "source": [
        "We have 2 cathecorical Data insider of our ds, country and gender, lets change them into numbers to make it easier for our model to work with them."
      ]
    },
    {
      "cell_type": "code",
      "metadata": {
        "colab": {
          "base_uri": "https://localhost:8080/"
        },
        "id": "HYpioQR-7UQS",
        "outputId": "70db6a6b-743c-41b5-ddda-ab13a34b1a82"
      },
      "source": [
        "from sklearn.preprocessing import OneHotEncoder, LabelEncoder\r\n",
        "from sklearn.compose import ColumnTransformer \r\n",
        "\r\n",
        "label_encoder_X_Country=LabelEncoder()\r\n",
        "x[:,1] = label_encoder_X_Country.fit_transform(x[:,1])\r\n",
        "\r\n",
        "label_encoder_X_gender=LabelEncoder()\r\n",
        "x[:,2] = label_encoder_X_gender.fit_transform(x[:,2])\r\n",
        "\r\n",
        "# we have 3 countries, lets make a feature for each using the one hot encoder method.\r\n",
        "x"
      ],
      "execution_count": 27,
      "outputs": [
        {
          "output_type": "execute_result",
          "data": {
            "text/plain": [
              "array([[619, 0, 0, ..., 1, 1, 101348.88],\n",
              "       [608, 2, 0, ..., 0, 1, 112542.58],\n",
              "       [502, 0, 0, ..., 1, 0, 113931.57],\n",
              "       ...,\n",
              "       [709, 0, 0, ..., 0, 1, 42085.58],\n",
              "       [772, 1, 1, ..., 1, 0, 92888.52],\n",
              "       [792, 0, 0, ..., 1, 0, 38190.78]], dtype=object)"
            ]
          },
          "metadata": {
            "tags": []
          },
          "execution_count": 27
        }
      ]
    },
    {
      "cell_type": "markdown",
      "metadata": {
        "id": "fmwOnwmpAfZU"
      },
      "source": [
        "Now we have only numbers insider of our ds "
      ]
    },
    {
      "cell_type": "code",
      "metadata": {
        "colab": {
          "base_uri": "https://localhost:8080/"
        },
        "id": "hTU0Ot-iDyHQ",
        "outputId": "eb37e9be-497a-4e8d-ec5b-20a8802764e3"
      },
      "source": [
        "s=pd.Series(x[:,1])\r\n",
        "pd.get_dummies(s).values\r\n",
        "\r\n",
        "new_x=np.delete(x,1,1)\r\n",
        "new_x=np.insert(new_x,1,pd.get_dummies(s).values[:,0]\r\n",
        ",axis=1)\r\n",
        "new_x=np.insert(new_x,2,pd.get_dummies(s).values[:,1]\r\n",
        ",axis=1)\r\n",
        "new_x"
      ],
      "execution_count": 28,
      "outputs": [
        {
          "output_type": "execute_result",
          "data": {
            "text/plain": [
              "array([[619, 1, 0, ..., 1, 1, 101348.88],\n",
              "       [608, 0, 0, ..., 0, 1, 112542.58],\n",
              "       [502, 1, 0, ..., 1, 0, 113931.57],\n",
              "       ...,\n",
              "       [709, 1, 0, ..., 0, 1, 42085.58],\n",
              "       [772, 0, 1, ..., 1, 0, 92888.52],\n",
              "       [792, 1, 0, ..., 1, 0, 38190.78]], dtype=object)"
            ]
          },
          "metadata": {
            "tags": []
          },
          "execution_count": 28
        }
      ]
    },
    {
      "cell_type": "markdown",
      "metadata": {
        "id": "9V9KOclfCdaG"
      },
      "source": [
        "Now we used the one hot encoding method to transform our cathegorical data into something useful. We keep only 2, to simplify the identification of the ANN, because if there are more than 3 possible outcome it will cause problem."
      ]
    },
    {
      "cell_type": "markdown",
      "metadata": {
        "id": "WOnEKC8NDuKb"
      },
      "source": [
        "#Separating the model into training set and Test set."
      ]
    },
    {
      "cell_type": "code",
      "metadata": {
        "id": "hmufx-Oi3v92"
      },
      "source": [
        "from sklearn.model_selection import train_test_split\r\n",
        "X_train, X_test , y_train, y_test = train_test_split(new_x,y,test_size=0.25,random_state = 0)"
      ],
      "execution_count": 29,
      "outputs": []
    },
    {
      "cell_type": "markdown",
      "metadata": {
        "id": "poyftocyEPrT"
      },
      "source": [
        "#Feature Scaling"
      ]
    },
    {
      "cell_type": "code",
      "metadata": {
        "id": "CSXYtZVk4N3K"
      },
      "source": [
        "from sklearn.preprocessing import StandardScaler\r\n",
        "standardscaler=StandardScaler()\r\n",
        "X_train = standardscaler.fit_transform(X_train)\r\n",
        "X_test= standardscaler.fit_transform(X_test)"
      ],
      "execution_count": 30,
      "outputs": []
    },
    {
      "cell_type": "code",
      "metadata": {
        "colab": {
          "base_uri": "https://localhost:8080/"
        },
        "id": "mK26zM6tAcfa",
        "outputId": "041ea837-6583-4cff-bfa6-0bc799ccbfe7"
      },
      "source": [
        "X_train"
      ],
      "execution_count": 31,
      "outputs": [
        {
          "output_type": "execute_result",
          "data": {
            "text/plain": [
              "array([[-0.73550706, -1.01558815,  1.76021608, ..., -1.55362351,\n",
              "        -1.03446007, -1.64080994],\n",
              "       [ 1.02442719,  0.98465111, -0.56811207, ...,  0.64365658,\n",
              "        -1.03446007, -0.07927152],\n",
              "       [ 0.80829492, -1.01558815, -0.56811207, ...,  0.64365658,\n",
              "         0.96668786, -0.99684012],\n",
              "       ...,\n",
              "       [ 0.90092304,  0.98465111, -0.56811207, ...,  0.64365658,\n",
              "        -1.03446007,  1.4133552 ],\n",
              "       [-0.62229491, -1.01558815, -0.56811207, ...,  0.64365658,\n",
              "         0.96668786,  0.84496184],\n",
              "       [-0.28265848, -1.01558815,  1.76021608, ...,  0.64365658,\n",
              "        -1.03446007,  0.32500428]])"
            ]
          },
          "metadata": {
            "tags": []
          },
          "execution_count": 31
        }
      ]
    },
    {
      "cell_type": "markdown",
      "metadata": {
        "id": "fHBlpZ6BE7Jm"
      },
      "source": [
        "# ANN BUILD"
      ]
    },
    {
      "cell_type": "code",
      "metadata": {
        "id": "Xt8LDqUcE8-i"
      },
      "source": [
        "from keras.models import Sequential # to build the model.\r\n",
        "from keras.layers import Dense # To build the hidden layers.\r\n",
        "from keras.layers import Dropout # this method helps agains overfiting."
      ],
      "execution_count": 32,
      "outputs": []
    },
    {
      "cell_type": "markdown",
      "metadata": {
        "id": "3FXFkv3TFWI1"
      },
      "source": [
        "let's initialize the ANN with the Sequential method\r\n",
        "\r\n"
      ]
    },
    {
      "cell_type": "code",
      "metadata": {
        "id": "p02bKp-mFPEf"
      },
      "source": [
        "classifier= Sequential()"
      ],
      "execution_count": 33,
      "outputs": []
    },
    {
      "cell_type": "markdown",
      "metadata": {
        "id": "3aNz5Wj5GO7A"
      },
      "source": [
        "let's add a layer. using the Dense method.\r\n",
        "\r\n",
        "- units: how many layers we want to create (in my case i use 6)\r\n",
        "- activation: the activation function of this layer (since it is a yes or no case, i use the relu activation functuin).\r\n",
        "- kernel_initializer: initialize the weights. (in my case i use uniform)\r\n",
        "- Input_dim: The number of features the Entry Layer is gonna have, in my case 11 (to make it more pro i use the command 'X_train.shape[1]')"
      ]
    },
    {
      "cell_type": "code",
      "metadata": {
        "id": "vDEYdyjPFez9"
      },
      "source": [
        "classifier.add(Dense(units=6,activation='relu',kernel_initializer='uniform',input_dim=X_train.shape[1]))"
      ],
      "execution_count": 34,
      "outputs": []
    },
    {
      "cell_type": "markdown",
      "metadata": {
        "id": "NT60V46VhdHt"
      },
      "source": [
        "We add DROPOUT ON EVERY LAYER SO THAT THE RISK OF OVERFITTING IS MINIMAL: I will use a Ratio of 0.1 so that every neuron has a 10% chance of beeing desactivated. (only necessary to build it on the hidden layers and the entry layer.)"
      ]
    },
    {
      "cell_type": "code",
      "metadata": {
        "id": "LaaqAJNMhqlt"
      },
      "source": [
        "classifier.add(Dropout(rate=0.1))"
      ],
      "execution_count": 35,
      "outputs": []
    },
    {
      "cell_type": "markdown",
      "metadata": {
        "id": "OMQr8wreIKNs"
      },
      "source": [
        "Now we will go deeper, and add a new Hidden Layer. Now we can remove the input_dim argument, since we dont need to tell him the number of features."
      ]
    },
    {
      "cell_type": "code",
      "metadata": {
        "id": "VBSG26IgHLXE"
      },
      "source": [
        "classifier.add(Dense(units=6,activation='relu',kernel_initializer='uniform'))\r\n",
        "classifier.add(Dropout(rate=0.1))"
      ],
      "execution_count": 36,
      "outputs": []
    },
    {
      "cell_type": "markdown",
      "metadata": {
        "id": "R9R-kWFeIxqr"
      },
      "source": [
        "Now we build the exit layer. The layer that offers the probability we want, since it is a single value we want, we can just offer a single Neuron. and we use the sigmoid activation function because it offers a probability, which is more efficient for a classification case like ours."
      ]
    },
    {
      "cell_type": "code",
      "metadata": {
        "id": "-LNJElHpHdEf"
      },
      "source": [
        "classifier.add(Dense(units=1,activation='sigmoid',kernel_initializer='uniform'))"
      ],
      "execution_count": 37,
      "outputs": []
    },
    {
      "cell_type": "markdown",
      "metadata": {
        "id": "cq3DsYKUKJT-"
      },
      "source": [
        "Now we will compile the ANN with the compile method.\r\n",
        "- optimizer: algorithme he uses to get the best weights. Using the sga (stocastic gradient algorithme )\r\n",
        "\r\n",
        "- loss: the loss function for the retropropagation, since we do a classification, we need a logistic regression. Thus we use a logarithmic loss function -> the binary_crossentropy.\r\n",
        "- metrics: Analyze the perfomance of the model. We use basic accuracy.\r\n"
      ]
    },
    {
      "cell_type": "code",
      "metadata": {
        "id": "jlKENJ-XJI11"
      },
      "source": [
        "classifier.compile(optimizer=\"adam\",loss='binary_crossentropy',metrics=['accuracy'])"
      ],
      "execution_count": 38,
      "outputs": []
    },
    {
      "cell_type": "markdown",
      "metadata": {
        "id": "INJUeKTaMxk6"
      },
      "source": [
        "#Train the model"
      ]
    },
    {
      "cell_type": "markdown",
      "metadata": {
        "id": "TQKVRclKM5aP"
      },
      "source": [
        "Now we need to train the model, using the fit method. Using our training Data, a batch size of 10 (I will modifiy it to see if the accurracy is not that awesome), and 100 epochs."
      ]
    },
    {
      "cell_type": "markdown",
      "metadata": {
        "id": "XwGyCRmwNvHF"
      },
      "source": [
        "###hyperparameters\r\n"
      ]
    },
    {
      "cell_type": "code",
      "metadata": {
        "id": "sfdPerYYN0tV"
      },
      "source": [
        "batch_size=30\r\n",
        "epochs=100"
      ],
      "execution_count": 39,
      "outputs": []
    },
    {
      "cell_type": "markdown",
      "metadata": {
        "id": "qbWSg3dHN8Pl"
      },
      "source": [
        "###training"
      ]
    },
    {
      "cell_type": "code",
      "metadata": {
        "colab": {
          "base_uri": "https://localhost:8080/"
        },
        "id": "p5m4KbUjMXfc",
        "outputId": "45dd8b16-70fc-4754-b06f-c8b55e863fdf"
      },
      "source": [
        "classifier.fit(X_train,y_train,batch_size=batch_size,epochs=epochs)"
      ],
      "execution_count": 40,
      "outputs": [
        {
          "output_type": "stream",
          "text": [
            "Epoch 1/100\n",
            "250/250 [==============================] - 1s 1ms/step - loss: 0.6353 - accuracy: 0.7917\n",
            "Epoch 2/100\n",
            "250/250 [==============================] - 0s 1ms/step - loss: 0.4513 - accuracy: 0.7973\n",
            "Epoch 3/100\n",
            "250/250 [==============================] - 0s 1ms/step - loss: 0.4390 - accuracy: 0.7963\n",
            "Epoch 4/100\n",
            "250/250 [==============================] - 0s 1ms/step - loss: 0.4279 - accuracy: 0.8036\n",
            "Epoch 5/100\n",
            "250/250 [==============================] - 0s 1ms/step - loss: 0.4278 - accuracy: 0.8011\n",
            "Epoch 6/100\n",
            "250/250 [==============================] - 0s 1ms/step - loss: 0.4179 - accuracy: 0.8062\n",
            "Epoch 7/100\n",
            "250/250 [==============================] - 0s 1ms/step - loss: 0.4390 - accuracy: 0.7861\n",
            "Epoch 8/100\n",
            "250/250 [==============================] - 0s 1ms/step - loss: 0.4401 - accuracy: 0.7923\n",
            "Epoch 9/100\n",
            "250/250 [==============================] - 0s 1ms/step - loss: 0.4349 - accuracy: 0.7945\n",
            "Epoch 10/100\n",
            "250/250 [==============================] - 0s 1ms/step - loss: 0.4164 - accuracy: 0.8036\n",
            "Epoch 11/100\n",
            "250/250 [==============================] - 0s 1ms/step - loss: 0.4288 - accuracy: 0.8170\n",
            "Epoch 12/100\n",
            "250/250 [==============================] - 0s 1ms/step - loss: 0.4349 - accuracy: 0.8202\n",
            "Epoch 13/100\n",
            "250/250 [==============================] - 0s 1ms/step - loss: 0.4239 - accuracy: 0.8193\n",
            "Epoch 14/100\n",
            "250/250 [==============================] - 0s 1ms/step - loss: 0.4318 - accuracy: 0.8211\n",
            "Epoch 15/100\n",
            "250/250 [==============================] - 0s 1ms/step - loss: 0.4288 - accuracy: 0.8262\n",
            "Epoch 16/100\n",
            "250/250 [==============================] - 0s 1ms/step - loss: 0.4223 - accuracy: 0.8254\n",
            "Epoch 17/100\n",
            "250/250 [==============================] - 0s 1ms/step - loss: 0.4174 - accuracy: 0.8308\n",
            "Epoch 18/100\n",
            "250/250 [==============================] - 0s 1ms/step - loss: 0.4212 - accuracy: 0.8321\n",
            "Epoch 19/100\n",
            "250/250 [==============================] - 0s 1ms/step - loss: 0.4253 - accuracy: 0.8323\n",
            "Epoch 20/100\n",
            "250/250 [==============================] - 0s 1ms/step - loss: 0.4179 - accuracy: 0.8279\n",
            "Epoch 21/100\n",
            "250/250 [==============================] - 0s 1ms/step - loss: 0.4253 - accuracy: 0.8272\n",
            "Epoch 22/100\n",
            "250/250 [==============================] - 0s 1ms/step - loss: 0.4178 - accuracy: 0.8305\n",
            "Epoch 23/100\n",
            "250/250 [==============================] - 0s 1ms/step - loss: 0.4264 - accuracy: 0.8323\n",
            "Epoch 24/100\n",
            "250/250 [==============================] - 0s 1ms/step - loss: 0.4167 - accuracy: 0.8313\n",
            "Epoch 25/100\n",
            "250/250 [==============================] - 0s 1ms/step - loss: 0.4229 - accuracy: 0.8284\n",
            "Epoch 26/100\n",
            "250/250 [==============================] - 0s 1ms/step - loss: 0.4174 - accuracy: 0.8357\n",
            "Epoch 27/100\n",
            "250/250 [==============================] - 0s 1ms/step - loss: 0.4132 - accuracy: 0.8384\n",
            "Epoch 28/100\n",
            "250/250 [==============================] - 0s 1ms/step - loss: 0.4115 - accuracy: 0.8307\n",
            "Epoch 29/100\n",
            "250/250 [==============================] - 0s 1ms/step - loss: 0.4284 - accuracy: 0.8311\n",
            "Epoch 30/100\n",
            "250/250 [==============================] - 0s 1ms/step - loss: 0.4164 - accuracy: 0.8303\n",
            "Epoch 31/100\n",
            "250/250 [==============================] - 0s 1ms/step - loss: 0.4376 - accuracy: 0.8248\n",
            "Epoch 32/100\n",
            "250/250 [==============================] - 0s 1ms/step - loss: 0.4152 - accuracy: 0.8336\n",
            "Epoch 33/100\n",
            "250/250 [==============================] - 0s 1ms/step - loss: 0.4224 - accuracy: 0.8281\n",
            "Epoch 34/100\n",
            "250/250 [==============================] - 0s 1ms/step - loss: 0.4176 - accuracy: 0.8355\n",
            "Epoch 35/100\n",
            "250/250 [==============================] - 0s 1ms/step - loss: 0.4079 - accuracy: 0.8349\n",
            "Epoch 36/100\n",
            "250/250 [==============================] - 0s 1ms/step - loss: 0.4051 - accuracy: 0.8424\n",
            "Epoch 37/100\n",
            "250/250 [==============================] - 0s 1ms/step - loss: 0.4265 - accuracy: 0.8250\n",
            "Epoch 38/100\n",
            "250/250 [==============================] - 0s 1ms/step - loss: 0.4062 - accuracy: 0.8325\n",
            "Epoch 39/100\n",
            "250/250 [==============================] - 0s 1ms/step - loss: 0.4301 - accuracy: 0.8228\n",
            "Epoch 40/100\n",
            "250/250 [==============================] - 0s 1ms/step - loss: 0.4266 - accuracy: 0.8284\n",
            "Epoch 41/100\n",
            "250/250 [==============================] - 0s 1ms/step - loss: 0.4180 - accuracy: 0.8336\n",
            "Epoch 42/100\n",
            "250/250 [==============================] - 0s 1ms/step - loss: 0.4163 - accuracy: 0.8333\n",
            "Epoch 43/100\n",
            "250/250 [==============================] - 0s 1ms/step - loss: 0.4130 - accuracy: 0.8384\n",
            "Epoch 44/100\n",
            "250/250 [==============================] - 0s 1ms/step - loss: 0.4260 - accuracy: 0.8236\n",
            "Epoch 45/100\n",
            "250/250 [==============================] - 0s 1ms/step - loss: 0.4083 - accuracy: 0.8374\n",
            "Epoch 46/100\n",
            "250/250 [==============================] - 0s 1ms/step - loss: 0.4248 - accuracy: 0.8277\n",
            "Epoch 47/100\n",
            "250/250 [==============================] - 0s 1ms/step - loss: 0.4121 - accuracy: 0.8401\n",
            "Epoch 48/100\n",
            "250/250 [==============================] - 0s 1ms/step - loss: 0.4161 - accuracy: 0.8306\n",
            "Epoch 49/100\n",
            "250/250 [==============================] - 0s 1ms/step - loss: 0.4286 - accuracy: 0.8299\n",
            "Epoch 50/100\n",
            "250/250 [==============================] - 0s 1ms/step - loss: 0.4214 - accuracy: 0.8295\n",
            "Epoch 51/100\n",
            "250/250 [==============================] - 0s 1ms/step - loss: 0.4247 - accuracy: 0.8293\n",
            "Epoch 52/100\n",
            "250/250 [==============================] - 0s 1ms/step - loss: 0.4192 - accuracy: 0.8272\n",
            "Epoch 53/100\n",
            "250/250 [==============================] - 0s 1ms/step - loss: 0.4111 - accuracy: 0.8409\n",
            "Epoch 54/100\n",
            "250/250 [==============================] - 0s 1ms/step - loss: 0.4050 - accuracy: 0.8409\n",
            "Epoch 55/100\n",
            "250/250 [==============================] - 0s 1ms/step - loss: 0.4251 - accuracy: 0.8298\n",
            "Epoch 56/100\n",
            "250/250 [==============================] - 0s 1ms/step - loss: 0.4183 - accuracy: 0.8302\n",
            "Epoch 57/100\n",
            "250/250 [==============================] - 0s 1ms/step - loss: 0.4368 - accuracy: 0.8235\n",
            "Epoch 58/100\n",
            "250/250 [==============================] - 0s 1ms/step - loss: 0.4194 - accuracy: 0.8394\n",
            "Epoch 59/100\n",
            "250/250 [==============================] - 0s 1ms/step - loss: 0.4148 - accuracy: 0.8351\n",
            "Epoch 60/100\n",
            "250/250 [==============================] - 0s 1ms/step - loss: 0.4123 - accuracy: 0.8344\n",
            "Epoch 61/100\n",
            "250/250 [==============================] - 0s 1ms/step - loss: 0.4166 - accuracy: 0.8334\n",
            "Epoch 62/100\n",
            "250/250 [==============================] - 0s 1ms/step - loss: 0.4200 - accuracy: 0.8328\n",
            "Epoch 63/100\n",
            "250/250 [==============================] - 0s 1ms/step - loss: 0.4116 - accuracy: 0.8319\n",
            "Epoch 64/100\n",
            "250/250 [==============================] - 0s 1ms/step - loss: 0.4147 - accuracy: 0.8357\n",
            "Epoch 65/100\n",
            "250/250 [==============================] - 0s 1ms/step - loss: 0.4265 - accuracy: 0.8311\n",
            "Epoch 66/100\n",
            "250/250 [==============================] - 0s 1ms/step - loss: 0.4321 - accuracy: 0.8284\n",
            "Epoch 67/100\n",
            "250/250 [==============================] - 0s 1ms/step - loss: 0.4072 - accuracy: 0.8436\n",
            "Epoch 68/100\n",
            "250/250 [==============================] - 0s 1ms/step - loss: 0.4162 - accuracy: 0.8296\n",
            "Epoch 69/100\n",
            "250/250 [==============================] - 0s 1ms/step - loss: 0.4113 - accuracy: 0.8312\n",
            "Epoch 70/100\n",
            "250/250 [==============================] - 0s 1ms/step - loss: 0.4261 - accuracy: 0.8327\n",
            "Epoch 71/100\n",
            "250/250 [==============================] - 0s 1ms/step - loss: 0.4285 - accuracy: 0.8314\n",
            "Epoch 72/100\n",
            "250/250 [==============================] - 0s 1ms/step - loss: 0.4255 - accuracy: 0.8291\n",
            "Epoch 73/100\n",
            "250/250 [==============================] - 0s 1ms/step - loss: 0.4180 - accuracy: 0.8354\n",
            "Epoch 74/100\n",
            "250/250 [==============================] - 0s 1ms/step - loss: 0.4112 - accuracy: 0.8344\n",
            "Epoch 75/100\n",
            "250/250 [==============================] - 0s 1ms/step - loss: 0.4213 - accuracy: 0.8302\n",
            "Epoch 76/100\n",
            "250/250 [==============================] - 0s 1ms/step - loss: 0.4133 - accuracy: 0.8287\n",
            "Epoch 77/100\n",
            "250/250 [==============================] - 0s 1ms/step - loss: 0.4341 - accuracy: 0.8223\n",
            "Epoch 78/100\n",
            "250/250 [==============================] - 0s 1ms/step - loss: 0.4270 - accuracy: 0.8296\n",
            "Epoch 79/100\n",
            "250/250 [==============================] - 0s 1ms/step - loss: 0.4108 - accuracy: 0.8305\n",
            "Epoch 80/100\n",
            "250/250 [==============================] - 0s 1ms/step - loss: 0.4130 - accuracy: 0.8335\n",
            "Epoch 81/100\n",
            "250/250 [==============================] - 0s 1ms/step - loss: 0.4282 - accuracy: 0.8285\n",
            "Epoch 82/100\n",
            "250/250 [==============================] - 0s 1ms/step - loss: 0.4247 - accuracy: 0.8286\n",
            "Epoch 83/100\n",
            "250/250 [==============================] - 0s 1ms/step - loss: 0.4149 - accuracy: 0.8287\n",
            "Epoch 84/100\n",
            "250/250 [==============================] - 0s 1ms/step - loss: 0.4285 - accuracy: 0.8265\n",
            "Epoch 85/100\n",
            "250/250 [==============================] - 0s 1ms/step - loss: 0.4108 - accuracy: 0.8372\n",
            "Epoch 86/100\n",
            "250/250 [==============================] - 0s 1ms/step - loss: 0.4203 - accuracy: 0.8317\n",
            "Epoch 87/100\n",
            "250/250 [==============================] - 0s 1ms/step - loss: 0.4118 - accuracy: 0.8379\n",
            "Epoch 88/100\n",
            "250/250 [==============================] - 0s 1ms/step - loss: 0.4216 - accuracy: 0.8280\n",
            "Epoch 89/100\n",
            "250/250 [==============================] - 0s 1ms/step - loss: 0.4207 - accuracy: 0.8313\n",
            "Epoch 90/100\n",
            "250/250 [==============================] - 0s 1ms/step - loss: 0.4231 - accuracy: 0.8293\n",
            "Epoch 91/100\n",
            "250/250 [==============================] - 0s 1ms/step - loss: 0.4213 - accuracy: 0.8272\n",
            "Epoch 92/100\n",
            "250/250 [==============================] - 0s 1ms/step - loss: 0.4133 - accuracy: 0.8370\n",
            "Epoch 93/100\n",
            "250/250 [==============================] - 0s 1ms/step - loss: 0.4227 - accuracy: 0.8254\n",
            "Epoch 94/100\n",
            "250/250 [==============================] - 0s 1ms/step - loss: 0.4265 - accuracy: 0.8246\n",
            "Epoch 95/100\n",
            "250/250 [==============================] - 0s 1ms/step - loss: 0.4141 - accuracy: 0.8301\n",
            "Epoch 96/100\n",
            "250/250 [==============================] - 0s 1ms/step - loss: 0.4144 - accuracy: 0.8325\n",
            "Epoch 97/100\n",
            "250/250 [==============================] - 0s 1ms/step - loss: 0.4232 - accuracy: 0.8276\n",
            "Epoch 98/100\n",
            "250/250 [==============================] - 0s 1ms/step - loss: 0.4126 - accuracy: 0.8382\n",
            "Epoch 99/100\n",
            "250/250 [==============================] - 0s 1ms/step - loss: 0.4164 - accuracy: 0.8320\n",
            "Epoch 100/100\n",
            "250/250 [==============================] - 0s 1ms/step - loss: 0.4200 - accuracy: 0.8319\n"
          ],
          "name": "stdout"
        },
        {
          "output_type": "execute_result",
          "data": {
            "text/plain": [
              "<tensorflow.python.keras.callbacks.History at 0x7f567cfab090>"
            ]
          },
          "metadata": {
            "tags": []
          },
          "execution_count": 40
        }
      ]
    },
    {
      "cell_type": "markdown",
      "metadata": {
        "id": "JMLK19y2OBxP"
      },
      "source": [
        "### let's make some predictions"
      ]
    },
    {
      "cell_type": "markdown",
      "metadata": {
        "id": "bMfRVloJOT75"
      },
      "source": [
        "we will use the classifier method predict on our test x data"
      ]
    },
    {
      "cell_type": "code",
      "metadata": {
        "id": "vWP_YjaFOITP"
      },
      "source": [
        "y_pred= classifier.predict(X_test)"
      ],
      "execution_count": 41,
      "outputs": []
    },
    {
      "cell_type": "markdown",
      "metadata": {
        "id": "ybz1YCIwOYne"
      },
      "source": [
        "Since it is visibly not interesting to see the percentage of the results, we use a method to make clients with a percentage higher than 50 % become True and False below."
      ]
    },
    {
      "cell_type": "code",
      "metadata": {
        "colab": {
          "base_uri": "https://localhost:8080/"
        },
        "id": "sDVHC8GoORzR",
        "outputId": "8cb2c34f-091a-475d-d899-263b3383dde1"
      },
      "source": [
        "y_pred = (y_pred >0.5)\r\n",
        "y_pred"
      ],
      "execution_count": 42,
      "outputs": [
        {
          "output_type": "execute_result",
          "data": {
            "text/plain": [
              "array([[False],\n",
              "       [False],\n",
              "       [False],\n",
              "       ...,\n",
              "       [False],\n",
              "       [False],\n",
              "       [False]])"
            ]
          },
          "metadata": {
            "tags": []
          },
          "execution_count": 42
        }
      ]
    },
    {
      "cell_type": "markdown",
      "metadata": {
        "id": "UYI_8gMrOFOp"
      },
      "source": [
        "###Making the confusion matrix"
      ]
    },
    {
      "cell_type": "markdown",
      "metadata": {
        "id": "4DPgQ55SO4aP"
      },
      "source": [
        "to see all the right answers it made, the confusion matrix is very useful."
      ]
    },
    {
      "cell_type": "code",
      "metadata": {
        "colab": {
          "base_uri": "https://localhost:8080/"
        },
        "id": "GhAI59T0NUkD",
        "outputId": "714923e5-2bfc-43ed-a0c3-eb75ea8d9c94"
      },
      "source": [
        "from sklearn.metrics import confusion_matrix\r\n",
        "cm = confusion_matrix(y_test,y_pred)\r\n",
        "cm"
      ],
      "execution_count": 43,
      "outputs": [
        {
          "output_type": "execute_result",
          "data": {
            "text/plain": [
              "array([[1952,   39],\n",
              "       [ 362,  147]])"
            ]
          },
          "metadata": {
            "tags": []
          },
          "execution_count": 43
        }
      ]
    },
    {
      "cell_type": "markdown",
      "metadata": {
        "id": "SqrQRNj0PeIT"
      },
      "source": [
        "check the percentage of good answers."
      ]
    },
    {
      "cell_type": "code",
      "metadata": {
        "colab": {
          "base_uri": "https://localhost:8080/"
        },
        "id": "LMO1E3W_PKRF",
        "outputId": "6f6cf62b-5a64-4184-8931-0c62d804cf6e"
      },
      "source": [
        "number_of_total_predictions=y_pred.shape[0]\r\n",
        "\r\n",
        "print(\"The accuracy of our model: \"+ str((cm[0][0] + cm[1][1])/ number_of_total_predictions))"
      ],
      "execution_count": 44,
      "outputs": [
        {
          "output_type": "stream",
          "text": [
            "The accuracy of our model: 0.8396\n"
          ],
          "name": "stdout"
        }
      ]
    },
    {
      "cell_type": "markdown",
      "metadata": {
        "id": "OfzceLl6V1ye"
      },
      "source": [
        "# new data"
      ]
    },
    {
      "cell_type": "code",
      "metadata": {
        "id": "YquBVjWlVj2A"
      },
      "source": [
        "def test_new_client(new_client_list):\r\n",
        "  #transform the list into a numpy array \r\n",
        "  new_client=np.array([new_client_list]) #[[]]\r\n",
        "  # rescale the data\r\n",
        "  scaled_nc=standardscaler.transform(new_client)\r\n",
        "  #give the prediction  \r\n",
        "  y_new= ( classifier.predict(scaled_nc) > 0.5)\r\n",
        "  return y_new[0][0]\r\n",
        "  pass"
      ],
      "execution_count": 45,
      "outputs": []
    },
    {
      "cell_type": "code",
      "metadata": {
        "colab": {
          "base_uri": "https://localhost:8080/"
        },
        "id": "lkV72XxrWXyI",
        "outputId": "654cbeb2-b879-4cc1-fb16-4e857593271f"
      },
      "source": [
        "new_client_list=[600,1,0,0,1,3,60000.0,2,1,1,50000.0] # a client that was given with from an exercice.\r\n",
        "\r\n",
        "test_new_client(new_client_list)"
      ],
      "execution_count": 46,
      "outputs": [
        {
          "output_type": "execute_result",
          "data": {
            "text/plain": [
              "False"
            ]
          },
          "metadata": {
            "tags": []
          },
          "execution_count": 46
        }
      ]
    },
    {
      "cell_type": "markdown",
      "metadata": {
        "id": "Nd4W590BcMal"
      },
      "source": [
        "The the client we just tested is not going to stay in the Bank."
      ]
    },
    {
      "cell_type": "markdown",
      "metadata": {
        "id": "dwXY5BbhclRt"
      },
      "source": [
        "# Optimize the model using K-ford-Cross validation"
      ]
    },
    {
      "cell_type": "markdown",
      "metadata": {
        "id": "Btvu-vi4cuzg"
      },
      "source": [
        "We use the scikitlearn lib to use the crooss validation with keras.\r\n"
      ]
    },
    {
      "cell_type": "code",
      "metadata": {
        "id": "OrvsSDIKcpWN"
      },
      "source": [
        "from keras.wrappers.scikit_learn import KerasClassifier\r\n",
        "from sklearn.model_selection import cross_val_score"
      ],
      "execution_count": 62,
      "outputs": []
    },
    {
      "cell_type": "markdown",
      "metadata": {
        "id": "QaFLNaJ2dSl0"
      },
      "source": [
        "we make a function to build a default classifier. Because the keras classifier needs a function to build it."
      ]
    },
    {
      "cell_type": "code",
      "metadata": {
        "id": "u1buHlidc8fX"
      },
      "source": [
        "def build_classifier():\r\n",
        "  classifier= Sequential()\r\n",
        "  classifier.add(Dense(units=6,activation='relu',kernel_initializer='uniform',input_dim=X_train.shape[1]))\r\n",
        "  classifier.add(Dense(units=6,activation='relu',kernel_initializer='uniform'))\r\n",
        "  classifier.add(Dense(units=1,activation='sigmoid',kernel_initializer='uniform'))\r\n",
        "  classifier.compile(optimizer=\"adam\",loss='binary_crossentropy',metrics=['accuracy'])\r\n",
        "  return classifier"
      ],
      "execution_count": 63,
      "outputs": []
    },
    {
      "cell_type": "code",
      "metadata": {
        "id": "O4NASuOFduEb"
      },
      "source": [
        "#hyperparameters\r\n",
        "batch_size=30\r\n",
        "epochs=500\r\n",
        "cv=10 # the number of k validations we do."
      ],
      "execution_count": 64,
      "outputs": []
    },
    {
      "cell_type": "code",
      "metadata": {
        "id": "M3JYLFXJdRX6"
      },
      "source": [
        "classifier= KerasClassifier(build_fn=build_classifier,batch_size=batch_size,epochs=epochs)"
      ],
      "execution_count": 65,
      "outputs": []
    },
    {
      "cell_type": "markdown",
      "metadata": {
        "id": "n44mMes-d8ZS"
      },
      "source": [
        "Now the classifier is made, we need to get the values of all the cross validations. using the method cross_val_score :\r\n",
        "- estimator: our classifier\r\n",
        "- X and Y : training data\r\n",
        "- cv: the number of K in k-ford we use to build our model (in our case i use 10 because it seems to be reasonable.)\r\n",
        "- n_jobs : the number of CPU that work on it, i say 1 because now all my cpu power works on it, which makes it faster."
      ]
    },
    {
      "cell_type": "code",
      "metadata": {
        "id": "mg_lUw0Vdr6h"
      },
      "source": [
        "precisions= cross_val_score(estimator=classifier,X=X_train,y=y_train,cv=cv, n_jobs=-1)"
      ],
      "execution_count": 66,
      "outputs": []
    },
    {
      "cell_type": "code",
      "metadata": {
        "id": "4J_7riv-fRj5"
      },
      "source": [
        "mean=precisions.mean()\r\n",
        "std=precisions.std()"
      ],
      "execution_count": 67,
      "outputs": []
    },
    {
      "cell_type": "code",
      "metadata": {
        "colab": {
          "base_uri": "https://localhost:8080/"
        },
        "id": "OQbqik--zHjz",
        "outputId": "97e01625-40e4-4d97-d56b-fc8583483164"
      },
      "source": [
        "mean"
      ],
      "execution_count": 68,
      "outputs": [
        {
          "output_type": "execute_result",
          "data": {
            "text/plain": [
              "0.8448000073432922"
            ]
          },
          "metadata": {
            "tags": []
          },
          "execution_count": 68
        }
      ]
    },
    {
      "cell_type": "code",
      "metadata": {
        "colab": {
          "base_uri": "https://localhost:8080/"
        },
        "id": "zNXvKSpv2Z0B",
        "outputId": "116413a2-e78e-40c5-ea7f-e3f9433c498d"
      },
      "source": [
        "std"
      ],
      "execution_count": 69,
      "outputs": [
        {
          "output_type": "execute_result",
          "data": {
            "text/plain": [
              "0.01737636094458025"
            ]
          },
          "metadata": {
            "tags": []
          },
          "execution_count": 69
        }
      ]
    },
    {
      "cell_type": "markdown",
      "metadata": {
        "id": "-c23xfkQ4joV"
      },
      "source": [
        "#Test a optimisation with Gridsearch"
      ]
    },
    {
      "cell_type": "markdown",
      "metadata": {
        "id": "YqE1mXog4oZh"
      },
      "source": [
        "I will use the GridsearchCV method, to use multiple params and also see if the classifier work with multiple hyperparameters."
      ]
    },
    {
      "cell_type": "code",
      "metadata": {
        "id": "NXoewzV_2bBR"
      },
      "source": [
        "from sklearn.model_selection import GridSearchCV"
      ],
      "execution_count": 52,
      "outputs": []
    },
    {
      "cell_type": "markdown",
      "metadata": {
        "id": "e6h_3jHHGxxM"
      },
      "source": [
        "I make a new classifier function that takes an optimizer, so that i can vary without writing new code."
      ]
    },
    {
      "cell_type": "code",
      "metadata": {
        "id": "EbpRZwv5G33c"
      },
      "source": [
        "def build_classifier(optimizer):\r\n",
        "  classifier= Sequential()\r\n",
        "  classifier.add(Dense(units=6,activation='relu',kernel_initializer='uniform',input_dim=X_train.shape[1]))\r\n",
        "  classifier.add(Dense(units=6,activation='relu',kernel_initializer='uniform'))\r\n",
        "  classifier.add(Dense(units=1,activation='sigmoid',kernel_initializer='uniform'))\r\n",
        "  classifier.compile(optimizer=optimizer,loss='binary_crossentropy',metrics=['accuracy'])\r\n",
        "  return classifier"
      ],
      "execution_count": 53,
      "outputs": []
    },
    {
      "cell_type": "markdown",
      "metadata": {
        "id": "RjlpXL-h480n"
      },
      "source": [
        "I will make a new classifier.\r\n"
      ]
    },
    {
      "cell_type": "code",
      "metadata": {
        "id": "D352rJXJ46Qn"
      },
      "source": [
        "classifier=KerasClassifier(build_fn=build_classifier)"
      ],
      "execution_count": 54,
      "outputs": []
    },
    {
      "cell_type": "markdown",
      "metadata": {
        "id": "BuUgB1vh5HfM"
      },
      "source": [
        "I make a dictionary to have multiple values for the keys i will use. I will also change the optimizer into rmsprop\r\n"
      ]
    },
    {
      "cell_type": "code",
      "metadata": {
        "id": "oFb5NmOd5HIW"
      },
      "source": [
        "parameters = {'batch_size': [25,32],'epochs': [100,500],'optimizer':[\"adam\",\"rmsprop\"]}"
      ],
      "execution_count": 55,
      "outputs": []
    },
    {
      "cell_type": "markdown",
      "metadata": {
        "id": "g71LiX369KwE"
      },
      "source": [
        "Now we use a gridsearchcv method with all our parameters."
      ]
    },
    {
      "cell_type": "code",
      "metadata": {
        "id": "Ht6dvZCU5FlF"
      },
      "source": [
        "grid_search=GridSearchCV(estimator=classifier,\r\n",
        "                        param_grid=parameters,\r\n",
        "                         scoring=\"accuracy\",\r\n",
        "                         cv=cv)\r\n"
      ],
      "execution_count": 56,
      "outputs": []
    },
    {
      "cell_type": "markdown",
      "metadata": {
        "id": "CoKK5JJ9urFe"
      },
      "source": [
        "let's train our new model"
      ]
    },
    {
      "cell_type": "code",
      "metadata": {
        "id": "VPmCLuQ3uOZ-"
      },
      "source": [
        "grid_search=grid_search.fit(X_train,y_train)"
      ],
      "execution_count": null,
      "outputs": []
    },
    {
      "cell_type": "markdown",
      "metadata": {
        "id": "IsrepqZXwl15"
      },
      "source": [
        "that took 3 hours..... my god.."
      ]
    },
    {
      "cell_type": "markdown",
      "metadata": {
        "id": "RCZO3WguIosv"
      },
      "source": [
        "lets analyze our result."
      ]
    },
    {
      "cell_type": "code",
      "metadata": {
        "colab": {
          "base_uri": "https://localhost:8080/"
        },
        "id": "2Y8ad6HlIoDV",
        "outputId": "7ddb9de3-3e1b-4f18-9706-311d7234fdcd"
      },
      "source": [
        "grid_search.best_params_"
      ],
      "execution_count": 60,
      "outputs": [
        {
          "output_type": "execute_result",
          "data": {
            "text/plain": [
              "{'batch_size': 25, 'epochs': 500, 'optimizer': 'rmsprop'}"
            ]
          },
          "metadata": {
            "tags": []
          },
          "execution_count": 60
        }
      ]
    },
    {
      "cell_type": "code",
      "metadata": {
        "colab": {
          "base_uri": "https://localhost:8080/"
        },
        "id": "HTP1_7y6uamQ",
        "outputId": "9b6333f0-3a39-4723-c5aa-de38378fbb42"
      },
      "source": [
        "grid_search.best_score_"
      ],
      "execution_count": 61,
      "outputs": [
        {
          "output_type": "execute_result",
          "data": {
            "text/plain": [
              "0.8495999999999999"
            ]
          },
          "metadata": {
            "tags": []
          },
          "execution_count": 61
        }
      ]
    },
    {
      "cell_type": "markdown",
      "metadata": {
        "id": "wRVI-sNZJqrf"
      },
      "source": [
        "Now we know which parameters to train our model are the best !!!! "
      ]
    }
  ]
}